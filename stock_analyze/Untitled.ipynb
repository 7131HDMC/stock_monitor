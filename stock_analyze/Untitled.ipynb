{
 "cells": [
  {
   "cell_type": "code",
   "execution_count": 2,
   "id": "de662293-a97e-4bcf-ad2c-98cb35989583",
   "metadata": {},
   "outputs": [
    {
     "name": "stdout",
     "output_type": "stream",
     "text": [
      "Collecting websocket-client\n",
      "  Downloading websocket_client-1.3.2-py3-none-any.whl (54 kB)\n",
      "Installing collected packages: websocket-client\n",
      "Successfully installed websocket-client-1.3.2\n",
      "Note: you may need to restart the kernel to use updated packages.\n"
     ]
    }
   ],
   "source": [
    "pip install websocket-client"
   ]
  },
  {
   "cell_type": "code",
   "execution_count": null,
   "id": "5692dbdd-79c0-410c-8e44-a4ab9b18f6af",
   "metadata": {},
   "outputs": [],
   "source": []
  },
  {
   "cell_type": "code",
   "execution_count": 4,
   "id": "deeedc7e-dea2-4fd5-beff-e188658de232",
   "metadata": {},
   "outputs": [],
   "source": [
    "import websocket\n",
    "import json"
   ]
  },
  {
   "cell_type": "code",
   "execution_count": null,
   "id": "573b0860-c0f5-4848-9c8a-afdbab707f1d",
   "metadata": {},
   "outputs": [],
   "source": []
  },
  {
   "cell_type": "code",
   "execution_count": 5,
   "id": "7633f149-d2b4-4dd1-b829-126b29190625",
   "metadata": {},
   "outputs": [],
   "source": [
    "app_id = '1089' "
   ]
  },
  {
   "cell_type": "code",
   "execution_count": 6,
   "id": "e9d93285-d772-4d12-9470-04ddb0f4d4ce",
   "metadata": {},
   "outputs": [],
   "source": [
    "def on_open(ws):\n",
    "    json_data = json.dumps({\"ticks\": \"R_100\"})\n",
    "    ws.send(json_data)"
   ]
  },
  {
   "cell_type": "code",
   "execution_count": 7,
   "id": "e98993dc-5956-41e2-bfef-86eaeb422a7c",
   "metadata": {},
   "outputs": [],
   "source": [
    "def on_message(ws, message):\n",
    "    data = json.loads(message)\n",
    "    print('Data: %s' % message)"
   ]
  },
  {
   "cell_type": "code",
   "execution_count": 8,
   "id": "8bb90506-5758-42da-9da0-5009545684bc",
   "metadata": {},
   "outputs": [
    {
     "name": "stdout",
     "output_type": "stream",
     "text": [
      "Data: {\"echo_req\":{\"ticks\":\"R_100\"},\"msg_type\":\"tick\",\"subscription\":{\"id\":\"7736f611-c126-bed7-5f42-fd0a1c3a760c\"},\"tick\":{\"ask\":14622.31,\"bid\":14618.31,\"epoch\":1650327000,\"id\":\"7736f611-c126-bed7-5f42-fd0a1c3a760c\",\"pip_size\":2,\"quote\":14620.31,\"symbol\":\"R_100\"}}\n",
      "Data: {\"echo_req\":{\"ticks\":\"R_100\"},\"msg_type\":\"tick\",\"subscription\":{\"id\":\"7736f611-c126-bed7-5f42-fd0a1c3a760c\"},\"tick\":{\"ask\":14622.68,\"bid\":14618.68,\"epoch\":1650327002,\"id\":\"7736f611-c126-bed7-5f42-fd0a1c3a760c\",\"pip_size\":2,\"quote\":14620.68,\"symbol\":\"R_100\"}}\n",
      "Data: {\"echo_req\":{\"ticks\":\"R_100\"},\"msg_type\":\"tick\",\"subscription\":{\"id\":\"7736f611-c126-bed7-5f42-fd0a1c3a760c\"},\"tick\":{\"ask\":14626.55,\"bid\":14622.55,\"epoch\":1650327004,\"id\":\"7736f611-c126-bed7-5f42-fd0a1c3a760c\",\"pip_size\":2,\"quote\":14624.55,\"symbol\":\"R_100\"}}\n",
      "Data: {\"echo_req\":{\"ticks\":\"R_100\"},\"msg_type\":\"tick\",\"subscription\":{\"id\":\"7736f611-c126-bed7-5f42-fd0a1c3a760c\"},\"tick\":{\"ask\":14626.63,\"bid\":14622.63,\"epoch\":1650327006,\"id\":\"7736f611-c126-bed7-5f42-fd0a1c3a760c\",\"pip_size\":2,\"quote\":14624.63,\"symbol\":\"R_100\"}}\n",
      "Data: {\"echo_req\":{\"ticks\":\"R_100\"},\"msg_type\":\"tick\",\"subscription\":{\"id\":\"7736f611-c126-bed7-5f42-fd0a1c3a760c\"},\"tick\":{\"ask\":14623.45,\"bid\":14619.45,\"epoch\":1650327008,\"id\":\"7736f611-c126-bed7-5f42-fd0a1c3a760c\",\"pip_size\":2,\"quote\":14621.45,\"symbol\":\"R_100\"}}\n",
      "Data: {\"echo_req\":{\"ticks\":\"R_100\"},\"msg_type\":\"tick\",\"subscription\":{\"id\":\"7736f611-c126-bed7-5f42-fd0a1c3a760c\"},\"tick\":{\"ask\":14626.81,\"bid\":14622.81,\"epoch\":1650327010,\"id\":\"7736f611-c126-bed7-5f42-fd0a1c3a760c\",\"pip_size\":2,\"quote\":14624.81,\"symbol\":\"R_100\"}}\n"
     ]
    }
   ],
   "source": [
    "if __name__ == \"__main__\":\n",
    "    apiUrl = \"wss://ws.binaryws.com/websockets/v3?app_id=\"+app_id\n",
    "    ws = websocket.WebSocketApp(apiUrl, on_message=on_message, on_open=on_open)\n",
    "    ws.run_forever()"
   ]
  }
 ],
 "metadata": {
  "kernelspec": {
   "display_name": "Python 3 (ipykernel)",
   "language": "python",
   "name": "python3"
  },
  "language_info": {
   "codemirror_mode": {
    "name": "ipython",
    "version": 3
   },
   "file_extension": ".py",
   "mimetype": "text/x-python",
   "name": "python",
   "nbconvert_exporter": "python",
   "pygments_lexer": "ipython3",
   "version": "3.9.7"
  }
 },
 "nbformat": 4,
 "nbformat_minor": 5
}

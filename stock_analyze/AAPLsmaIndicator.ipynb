{
 "cells": [
  {
   "cell_type": "markdown",
   "metadata": {},
   "source": [
    "# Create SMA with Python"
   ]
  },
  {
   "cell_type": "code",
   "execution_count": 141,
   "metadata": {},
   "outputs": [
    {
     "name": "stdout",
     "output_type": "stream",
     "text": [
      "Collecting torchdiffeq\n",
      "  Downloading torchdiffeq-0.2.3-py3-none-any.whl (31 kB)\n",
      "Collecting scipy>=1.4.0\n",
      "  Downloading scipy-1.7.3-cp37-cp37m-win_amd64.whl (34.1 MB)\n",
      "     --------------------------------------- 34.1/34.1 MB 16.0 MB/s eta 0:00:00\n",
      "Collecting torch>=1.3.0\n",
      "  Downloading torch-1.11.0-cp37-cp37m-win_amd64.whl (158.0 MB)\n",
      "     -------------------------------------- 158.0/158.0 MB 5.5 MB/s eta 0:00:00\n",
      "Requirement already satisfied: numpy<1.23.0,>=1.16.5 in c:\\users\\hari.moura\\appdata\\local\\continuum\\anaconda3\\lib\\site-packages (from scipy>=1.4.0->torchdiffeq) (1.21.6)\n",
      "Collecting typing-extensions\n",
      "  Downloading typing_extensions-4.2.0-py3-none-any.whl (24 kB)\n",
      "Installing collected packages: typing-extensions, scipy, torch, torchdiffeq\n",
      "  Attempting uninstall: scipy\n",
      "    Found existing installation: scipy 1.1.0\n",
      "    Uninstalling scipy-1.1.0:\n",
      "      Successfully uninstalled scipy-1.1.0\n"
     ]
    },
    {
     "name": "stderr",
     "output_type": "stream",
     "text": [
      "WARNING: Ignoring invalid distribution -etuptools (c:\\users\\hari.moura\\appdata\\local\\continuum\\anaconda3\\lib\\site-packages)\n",
      "WARNING: Ignoring invalid distribution -etuptools (c:\\users\\hari.moura\\appdata\\local\\continuum\\anaconda3\\lib\\site-packages)\n",
      "  WARNING: Retrying (Retry(total=4, connect=None, read=None, redirect=None, status=None)) after connection broken by 'ReadTimeoutError(\"HTTPSConnectionPool(host='files.pythonhosted.org', port=443): Read timed out. (read timeout=15)\")': /packages/1d/38/b654e16f97be5985877056f5f13747cbd015a105ac092f8bf4ff6ca03f6f/torch-1.11.0-cp37-cp37m-win_amd64.whl\n",
      "  WARNING: Retrying (Retry(total=3, connect=None, read=None, redirect=None, status=None)) after connection broken by 'ReadTimeoutError(\"HTTPSConnectionPool(host='files.pythonhosted.org', port=443): Read timed out. (read timeout=15)\")': /packages/1d/38/b654e16f97be5985877056f5f13747cbd015a105ac092f8bf4ff6ca03f6f/torch-1.11.0-cp37-cp37m-win_amd64.whl\n",
      "  WARNING: Retrying (Retry(total=2, connect=None, read=None, redirect=None, status=None)) after connection broken by 'ReadTimeoutError(\"HTTPSConnectionPool(host='files.pythonhosted.org', port=443): Read timed out. (read timeout=15)\")': /packages/1d/38/b654e16f97be5985877056f5f13747cbd015a105ac092f8bf4ff6ca03f6f/torch-1.11.0-cp37-cp37m-win_amd64.whl\n",
      "WARNING: Ignoring invalid distribution -etuptools (c:\\users\\hari.moura\\appdata\\local\\continuum\\anaconda3\\lib\\site-packages)\n",
      "    WARNING: Ignoring invalid distribution -etuptools (c:\\users\\hari.moura\\appdata\\local\\continuum\\anaconda3\\lib\\site-packages)\n",
      "ERROR: Could not install packages due to an OSError: [WinError 5] Acesso negado: 'c:\\\\users\\\\hari.moura\\\\appdata\\\\local\\\\continuum\\\\anaconda3\\\\lib\\\\site-packages\\\\~cipy\\\\cluster\\\\_hierarchy.cp37-win_amd64.pyd'\n",
      "Consider using the `--user` option or check the permissions.\n",
      "\n",
      "WARNING: Ignoring invalid distribution -etuptools (c:\\users\\hari.moura\\appdata\\local\\continuum\\anaconda3\\lib\\site-packages)\n",
      "WARNING: Ignoring invalid distribution -etuptools (c:\\users\\hari.moura\\appdata\\local\\continuum\\anaconda3\\lib\\site-packages)\n"
     ]
    }
   ],
   "source": [
    "# Install a pip package in the current Jupyter kernel\n",
    "import sys\n",
    "!{sys.executable} -m pip install torchdiffeq"
   ]
  },
  {
   "cell_type": "markdown",
   "metadata": {},
   "source": [
    "Import libraries"
   ]
  },
  {
   "cell_type": "code",
   "execution_count": null,
   "metadata": {},
   "outputs": [],
   "source": [
    "import numpy as np\n",
    "import pandas as pd\n",
    "import investpy as ip\n",
    "# import streamlit as st\n",
    "import plotly.graph_objects as go\n",
    "from plotly.subplots import make_subplots\n",
    "from datetime import datetime, timedelta\n",
    "import plotly.express as px"
   ]
  },
  {
   "cell_type": "markdown",
   "metadata": {},
   "source": [
    "Get historical data from stock name"
   ]
  },
  {
   "cell_type": "code",
   "execution_count": null,
   "metadata": {},
   "outputs": [],
   "source": [
    "#Define function to egt historical data with investpy\n",
    "def get_stock_df(stock, country, from_date, to_date, interval):\n",
    "    return ip.get_stock_historical_data(stock=stock,\n",
    "                                  country=country,\n",
    "                                  from_date=from_date,\n",
    "                                  to_date=to_date,\n",
    "                                  interval=interval)\n",
    "historical data from 5 yeasr ago#get Aaple \n",
    "aapl = get_stock_df(\"NFLX\", 'united states', '13/04/2017', '22/04/2022', 'daily')\n",
    "\n",
    "aapl.head()"
   ]
  },
  {
   "cell_type": "raw",
   "metadata": {},
   "source": [
    "Visual representation"
   ]
  },
  {
   "cell_type": "code",
   "execution_count": null,
   "metadata": {},
   "outputs": [],
   "source": [
    "aapl[\"Close\"].plot(grid=True)"
   ]
  },
  {
   "cell_type": "markdown",
   "metadata": {},
   "source": [
    "Define a simple moving average from 30 and 100 entries window"
   ]
  },
  {
   "cell_type": "code",
   "execution_count": null,
   "metadata": {},
   "outputs": [],
   "source": [
    "# Define FIRST AND SECOND sma intervals\n",
    "st_sma_interval = 30\n",
    "nd_sma_interval = 50\n",
    "#DEFINE FIRST AND SECOND  SMA INTERVALS NAME\n",
    "st_sma_name = \"sma\"+str(st_sma_interval)\n",
    "nd_sma_name = \"sma\"+str(nd_sma_interval)\n",
    "\n",
    "st_sma  = pd.DataFrame()\n",
    "nd_sma = pd.DataFrame()\n",
    "\n",
    "st_sma[\"close_price\"] = aapl[\"Close\"].rolling(window = st_sma_interval).mean()\n",
    "nd_sma[\"close_price\"] = aapl[\"Close\"].rolling(window = nd_sma_interval).mean()"
   ]
  },
  {
   "cell_type": "markdown",
   "metadata": {},
   "source": [
    "View new DataFrame TAIL"
   ]
  },
  {
   "cell_type": "code",
   "execution_count": 131,
   "metadata": {},
   "outputs": [
    {
     "name": "stdout",
     "output_type": "stream",
     "text": [
      "            close_price\n",
      "Date                   \n",
      "2022-04-18   167.300667\n",
      "2022-04-19   167.570667\n",
      "2022-04-20   167.897000\n",
      "2022-04-21   168.012667\n",
      "2022-04-22   168.121667\n",
      "            close_price\n",
      "Date                   \n",
      "2022-04-18     167.6320\n",
      "2022-04-19     167.5322\n",
      "2022-04-20     167.4436\n",
      "2022-04-21     167.2754\n",
      "2022-04-22     166.9856\n"
     ]
    }
   ],
   "source": [
    "print(st_sma.tail())\n",
    "print(nd_sma.tail())"
   ]
  },
  {
   "cell_type": "markdown",
   "metadata": {},
   "source": [
    "Create a simple graph with both sma and aapl close price"
   ]
  },
  {
   "cell_type": "code",
   "execution_count": null,
   "metadata": {},
   "outputs": [],
   "source": [
    "aapl[\"Close\"].plot(grid=True)\n",
    "st_sma[\"close_price\"].plot(grid=True)\n",
    "nd_sma[\"close_price\"].plot(grid=True)"
   ]
  },
  {
   "cell_type": "markdown",
   "metadata": {},
   "source": [
    "Create function to return a dataframe with sma cross signal of buy or sell"
   ]
  },
  {
   "cell_type": "code",
   "execution_count": null,
   "metadata": {},
   "outputs": [],
   "source": [
    "#buy and sell definitions\n",
    "buy  = 1\n",
    "sell = 0\n",
    "\n",
    "def sma_signals(data):\n",
    "    flag = -1\n",
    "    \n",
    "    data[\"signal\"] = np.nan\n",
    "    \n",
    "    for i in range(len(data)):\n",
    "        if data[st_sma_name][i] > data[nd_sma_name][i]:# if first sma cross second is a buy signal\n",
    "            if flag != buy:\n",
    "                data[\"signal\"][i] = buy\n",
    "                flag = buy\n",
    "        elif data[st_sma_name][i] < data[nd_sma_name][i]:# if second sma cross first is a sell signal\n",
    "            if flag != sell:\n",
    "                data[\"signal\"][i] = sell\n",
    "                flag = sell\n",
    "    \n",
    "    return data.copy()\n"
   ]
  },
  {
   "cell_type": "markdown",
   "metadata": {},
   "source": [
    "Prepare data with copy from AAPL"
   ]
  },
  {
   "cell_type": "code",
   "execution_count": null,
   "metadata": {},
   "outputs": [],
   "source": [
    "#Copy dataframe\n",
    "aapl_ = aapl.copy()\n",
    "\n",
    "#delete some columns\n",
    "aapl_ = aapl_.drop(['High', 'Open', 'Low', 'Currency'], axis=1)\n",
    "\n",
    "aapl_[st_sma_name] = st_sma[\"close_price\"]\n",
    "aapl_[nd_sma_name] = nd_sma[\"close_price\"]\n",
    "print(aapl_.tail())"
   ]
  },
  {
   "cell_type": "code",
   "execution_count": null,
   "metadata": {},
   "outputs": [],
   "source": [
    "aapl_ = sma_signals(aapl_)\n",
    "aapl_.tail()"
   ]
  },
  {
   "cell_type": "code",
   "execution_count": 138,
   "metadata": {},
   "outputs": [
    {
     "data": {
      "text/plain": [
       "Date\n",
       "2017-06-23    1.0\n",
       "2017-08-08    1.0\n",
       "2017-11-07    1.0\n",
       "2018-01-12    1.0\n",
       "2018-03-20    1.0\n",
       "2018-05-14    1.0\n",
       "2018-08-02    1.0\n",
       "2019-02-19    1.0\n",
       "2019-07-11    1.0\n",
       "2020-05-05    1.0\n",
       "2020-11-09    1.0\n",
       "2021-04-22    1.0\n",
       "2021-07-01    1.0\n",
       "2021-11-15    1.0\n",
       "2022-04-19    1.0\n",
       "Name: signal, dtype: float64"
      ]
     },
     "execution_count": 138,
     "metadata": {},
     "output_type": "execute_result"
    }
   ],
   "source": [
    "aapl_.loc[ aapl_[\"signal\"] == 1 ,\"signal\"]"
   ]
  },
  {
   "cell_type": "markdown",
   "metadata": {},
   "source": [
    "Create functioon to show a graph from dataframe with two sma cross"
   ]
  },
  {
   "cell_type": "code",
   "execution_count": null,
   "metadata": {},
   "outputs": [],
   "source": [
    "def show_sma_signals(data):\n",
    "    ## Make subplot with Title\n",
    "    fig = make_subplots(\n",
    "            rows=2, \n",
    "            cols=1, \n",
    "            shared_xaxes=True, \n",
    "            specs=[[{\"secondary_y\": False}], [{\"secondary_y\": True}]],\n",
    "            vertical_spacing=0.03,\n",
    "            subplot_titles=(' AAPL close price history buy and sell signal ', ' Daily interval '),\n",
    "            row_width=[0.2, 0.7],\n",
    "    )\n",
    "\n",
    "    ## Add Close datal as yAXIS\n",
    "    fig.add_trace( \n",
    "        go.Scatter( \n",
    "            x=data.index, \n",
    "            y=data[\"Close\"],\n",
    "            mode=\"lines\",\n",
    "            name=\"Close\"\n",
    "        )\n",
    "    )\n",
    "\n",
    "    ## Add st_sma_name alongside Close data\n",
    "    fig.add_trace(\n",
    "        go.Scatter(\n",
    "            x=data[st_sma_name].index, \n",
    "            y=data[st_sma_name],\n",
    "            mode=\"lines\",\n",
    "            line_color=\"orange\",\n",
    "            name=st_sma_name,\n",
    "            opacity=0.72\n",
    "    )\n",
    "    ,row=1, col=1)\n",
    "\n",
    "    ## Add nd_sma_name alongside Close data\n",
    "    fig.add_trace(\n",
    "        go.Scatter(\n",
    "            x=data[nd_sma_name].index, \n",
    "            y=data[nd_sma_name],\n",
    "            mode=\"lines\",\n",
    "            name=nd_sma_name,\n",
    "            line_color=\"yellow\",\n",
    "            opacity=0.72\n",
    "    )\n",
    "    ,row=1, col=1)\n",
    "\n",
    "    #Add sell marker at firts cross second based on signal pre calculated\n",
    "    fig.add_trace(\n",
    "        go.Scatter(\n",
    "            x=data[data[\"signal\"] == sell].index, \n",
    "            y=data[data[\"signal\"] == sell][\"Close\"],\n",
    "            mode=\"markers\",\n",
    "            name=\"Sell\",\n",
    "            marker_color=\"red\",\n",
    "            marker_symbol=\"arrow-down-open\",\n",
    "            marker_size=7,\n",
    "    )\n",
    "    ,row=1, col=1)\n",
    "\n",
    "\n",
    "    #Add sell marker at firts cross second based on signal pre calculated\n",
    "    fig.add_trace(\n",
    "        go.Scatter(\n",
    "            x=data[data[\"signal\"] == buy].index, \n",
    "            y=data[data[\"signal\"] == buy][\"Close\"],\n",
    "            mode=\"markers\",\n",
    "            name=\"Buy\",\n",
    "            marker_color=\"springgreen\",\n",
    "            marker_symbol=\"arrow-up-open\",\n",
    "            marker_size=7,\n",
    "    )\n",
    "    ,row=1, col=1)\n",
    "    \n",
    "    #change template\n",
    "    fig.update_layout(\n",
    "        template=\"plotly_dark\", \n",
    "        xaxis_rangeslider_visible=True,\n",
    "        height=700\n",
    "    )\n",
    "\n",
    "    fig.show()"
   ]
  },
  {
   "cell_type": "code",
   "execution_count": null,
   "metadata": {
    "scrolled": true
   },
   "outputs": [],
   "source": [
    "show_sma_signals(aapl_.copy())"
   ]
  },
  {
   "cell_type": "code",
   "execution_count": null,
   "metadata": {},
   "outputs": [],
   "source": []
  }
 ],
 "metadata": {
  "kernelspec": {
   "display_name": "Python 3",
   "language": "python",
   "name": "python3"
  },
  "language_info": {
   "codemirror_mode": {
    "name": "ipython",
    "version": 3
   },
   "file_extension": ".py",
   "mimetype": "text/x-python",
   "name": "python",
   "nbconvert_exporter": "python",
   "pygments_lexer": "ipython3",
   "version": "3.7.0"
  }
 },
 "nbformat": 4,
 "nbformat_minor": 2
}
